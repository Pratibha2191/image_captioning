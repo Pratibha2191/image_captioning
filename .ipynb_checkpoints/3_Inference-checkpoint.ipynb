{
 "cells": [
  {
   "cell_type": "code",
   "execution_count": 1,
   "metadata": {},
   "outputs": [],
   "source": [
    "%load_ext autoreload\n",
    "%autoreload 2\n",
    "\n",
    "import os\n",
    "from pycocotools.coco import COCO\n",
    "from torchvision import transforms\n",
    "import torch\n",
    "import numpy as np\n",
    "import matplotlib.pyplot as plt\n",
    "%matplotlib inline\n",
    "\n",
    "from data_loader import get_loader\n",
    "from model import EncoderCNN, DecoderRNN\n",
    "from utils import clean_sentence, get_prediction"
   ]
  },
  {
   "cell_type": "code",
   "execution_count": 2,
   "metadata": {},
   "outputs": [
    {
     "name": "stdout",
     "output_type": "stream",
     "text": [
      "Vocabulary successfully loaded from vocab.pkl file!\n"
     ]
    }
   ],
   "source": [
    "# Define a transform to pre-process the testing images\n",
    "transform_test = transforms.Compose([ \n",
    "    transforms.Resize(256),                          # smaller edge of image resized to 256\n",
    "    transforms.CenterCrop(224),                      # get 224x224 crop from the center\n",
    "    transforms.ToTensor(),                           # convert the PIL Image to a tensor\n",
    "    transforms.Normalize((0.485, 0.456, 0.406),      # normalize image for pre-trained model\n",
    "                         (0.229, 0.224, 0.225))])\n",
    "\n",
    "# Create the data loader\n",
    "data_loader = get_loader(transform=transform_test,    \n",
    "                         mode='test')"
   ]
  },
  {
   "cell_type": "code",
   "execution_count": 3,
   "metadata": {},
   "outputs": [
    {
     "name": "stdout",
     "output_type": "stream",
     "text": [
      "Vocabulary successfully loaded from vocab.pkl file!\n"
     ]
    }
   ],
   "source": [
    "# Obtain sample image before and after pre-processing\n",
    "orig_image, image = next(iter(data_loader))\n",
    "# Convert image from torch.FloatTensor to numpy ndarray\n",
    "transformed_image = image.numpy()\n",
    "# Remove the first dimension which is batch_size euqal to 1\n",
    "transformed_image = np.squeeze(transformed_image)\n",
    "transformed_image = transformed_image.transpose((1, 2, 0))\n",
    "\n",
    "# Visualize sample image, before pre-processing\n",
    "plt.imshow(np.squeeze(orig_image))\n",
    "plt.title('example image')\n",
    "plt.show()\n",
    "# Visualize sample image, after pre-processing\n",
    "plt.imshow(transformed_image)\n",
    "plt.title('transformed image')\n",
    "plt.show()"
   ]
  },
  {
   "cell_type": "code",
   "execution_count": 4,
   "metadata": {},
   "outputs": [],
   "source": [
    "# Load the most recent checkpoint\n",
    "checkpoint = torch.load(os.path.join('./models', 'model-1.pkl'))\n",
    "\n",
    "# Specify values for embed_size and hidden_size - we use the same values as in training step\n",
    "embed_size = 256\n",
    "hidden_size = 512\n",
    "\n",
    "# Get the vocabulary and its size\n",
    "vocab = data_loader.dataset.vocab\n",
    "vocab_size = len(vocab)\n",
    "\n",
    "# Initialize the encoder and decoder, and set each to inference mode\n",
    "encoder = EncoderCNN(embed_size)\n",
    "encoder.eval()\n",
    "decoder = DecoderRNN(embed_size, hidden_size, vocab_size)\n",
    "decoder.eval()\n",
    "\n",
    "# Load the pre-trained weights\n",
    "encoder.load_state_dict(checkpoint['encoder'])\n",
    "decoder.load_state_dict(checkpoint['decoder'])\n",
    "\n",
    "# Move models to GPU if CUDA is available.\n",
    "if torch.cuda.is_available():\n",
    "    encoder.cuda()\n",
    "    decoder.cuda()"
   ]
  },
  {
   "cell_type": "code",
   "execution_count": 5,
   "metadata": {},
   "outputs": [
    {
     "name": "stdout",
     "output_type": "stream",
     "text": [
      "example output: [0, 3, 97, 356, 3, 310, 155, 291, 159, 3, 642, 643, 18, 1, 1, 18, 1, 1, 18, 1]\n"
     ]
    }
   ],
   "source": [
    "# Obtain the embedded image features.\n",
    "orig_image, image = next(iter(data_loader))\n",
    "features = encoder(image).unsqueeze(1)\n",
    "\n",
    "# Pass the embedded image features through the model to get a predicted caption.\n",
    "output = decoder.sample(features)\n",
    "print('example output:', output)\n",
    "\n",
    "assert (type(output)==list), \"Output needs to be a Python list\" \n",
    "assert all([type(x)==int for x in output]), \"Output should be a list of integers.\" \n",
    "assert all([x in data_loader.dataset.vocab.idx2word for x in output]), \"Each entry in the output needs to correspond to an integer that indicates a token in the vocabulary.\""
   ]
  },
  {
   "cell_type": "code",
   "execution_count": 6,
   "metadata": {},
   "outputs": [
    {
     "name": "stdout",
     "output_type": "stream",
     "text": [
      "example sentence: a person holding a cell phone up to a remote control .\n"
     ]
    }
   ],
   "source": [
    "sentence = clean_sentence(output, vocab)\n",
    "print('example sentence:', sentence)\n",
    "\n",
    "assert type(sentence)==str, 'Sentence needs to be a Python string!'"
   ]
  },
  {
   "cell_type": "code",
   "execution_count": null,
   "metadata": {},
   "outputs": [],
   "source": [
    "get_prediction(data_loader, encoder, decoder, vocab)"
   ]
  },
  {
   "cell_type": "code",
   "execution_count": null,
   "metadata": {},
   "outputs": [],
   "source": [
    "get_prediction(data_loader, encoder, decoder, vocab)"
   ]
  },
  {
   "cell_type": "code",
   "execution_count": null,
   "metadata": {},
   "outputs": [],
   "source": [
    "get_prediction(data_loader, encoder, decoder, vocab)"
   ]
  },
  {
   "cell_type": "code",
   "execution_count": null,
   "metadata": {},
   "outputs": [],
   "source": [
    "get_prediction(data_loader, encoder, decoder, vocab)"
   ]
  },
  {
   "cell_type": "code",
   "execution_count": null,
   "metadata": {},
   "outputs": [],
   "source": [
    "get_prediction(data_loader, encoder, decoder, vocab)"
   ]
  },
  {
   "cell_type": "code",
   "execution_count": null,
   "metadata": {},
   "outputs": [],
   "source": []
  }
 ],
 "metadata": {
  "anaconda-cloud": {},
  "kernelspec": {
   "display_name": "Python 3 (ipykernel)",
   "language": "python",
   "name": "python3"
  },
  "language_info": {
   "codemirror_mode": {
    "name": "ipython",
    "version": 3
   },
   "file_extension": ".py",
   "mimetype": "text/x-python",
   "name": "python",
   "nbconvert_exporter": "python",
   "pygments_lexer": "ipython3",
   "version": "3.6.8"
  }
 },
 "nbformat": 4,
 "nbformat_minor": 2
}
